{
 "cells": [
  {
   "cell_type": "code",
   "execution_count": 4,
   "id": "d5d9cd38-1c52-452b-ab5d-c942df32e55b",
   "metadata": {},
   "outputs": [],
   "source": [
    "from gbm_drm_gen.drmgen import DRMGen\n",
    "from gbmgeometry.position_interpolator import PositionInterpolator\n",
    "import numpy as np\n",
    "# Input energy bin edges for the response - need odd number of edges!\n",
    "Ein_edges = np.geomspace(10,2000,301)\n",
    "\n",
    "# Output energy bin edges for the response\n",
    "Eout_edges = np.geomspace(10,1000,100)\n",
    "\n",
    "# need a PositionInterpolator to init the DRMGen. The values I use here define the satellite position and orientation but I\n",
    "# just use dummy values here as we will calc the response directly in satellite frame\n",
    "pos = PositionInterpolator(quats = np.array([[0,0,0,0],[0,0,0,0]]),\n",
    "                           sc_pos = np.array([[0,0,0],[0,0,0]]),\n",
    "                           time=[0,10],\n",
    "                           trigtime=5)\n",
    "\n",
    "# Init the response generator\n",
    "# mat_type defines what is included in the response. 0 means only take the direct response and not the additional response of gamma rays\n",
    "# that get reflected from the earth\n",
    "# occult=False means we do not want to account for the occultation of the location by the earth\n",
    "# det_number 0 is detector n0\n",
    "drmgen = DRMGen(pos, det_number=0, ebin_edge_in=Ein_edges, ebin_edge_out=Eout_edges, mat_type=0, occult=False,time=5)"
   ]
  },
  {
   "cell_type": "code",
   "execution_count": 5,
   "id": "0f6b429e-a4c4-46e8-adf8-cc6258062c5f",
   "metadata": {},
   "outputs": [],
   "source": [
    "# set the position (in sat frame)\n",
    "drmgen.set_location_direct_sat_coord(az=0, el=0)"
   ]
  },
  {
   "cell_type": "code",
   "execution_count": 12,
   "id": "8501a7d6-0a26-4d5d-8b43-1d516ae84dac",
   "metadata": {},
   "outputs": [],
   "source": [
    "# get the response matrix\n",
    "mat = drmgen.matrix"
   ]
  },
  {
   "cell_type": "code",
   "execution_count": 13,
   "id": "c2e943b5-d655-4b54-92cd-9756744b4318",
   "metadata": {},
   "outputs": [
    {
     "data": {
      "text/plain": [
       "Text(0.5, 1.0, 'Input: 58.48035476425734 keV')"
      ]
     },
     "execution_count": 13,
     "metadata": {},
     "output_type": "execute_result"
    },
    {
     "data": {
      "image/png": "[encoded data removed]",
      "text/plain": [
       "<Figure size 432x288 with 1 Axes>"
      ]
     },
     "metadata": {
      "needs_background": "light"
     },
     "output_type": "display_data"
    }
   ],
   "source": [
    "# plot one row\n",
    "import matplotlib.pyplot as plt\n",
    "Ein_index = 100\n",
    "plt.step(Eout_edges[1:], mat[:,Ein_index])\n",
    "plt.xscale(\"log\")\n",
    "plt.ylabel(\"Eff. Area [cm2]\")\n",
    "plt.xlabel(\"Reconstructed Energy [keV]\")\n",
    "plt.title(f\"Input: {Ein_edges[Ein_index]} keV\")"
   ]
  },
  {
   "cell_type": "code",
   "execution_count": null,
   "id": "f30c279c-3ae4-4e4f-9f70-7153acc1d517",
   "metadata": {},
   "outputs": [],
   "source": []
  }
 ],
 "metadata": {
  "kernelspec": {
   "display_name": "imprs_course",
   "language": "python",
   "name": "imprs_course"
  },
  "language_info": {
   "codemirror_mode": {
    "name": "ipython",
    "version": 3
   },
   "file_extension": ".py",
   "mimetype": "text/x-python",
   "name": "python",
   "nbconvert_exporter": "python",
   "pygments_lexer": "ipython3",
   "version": "3.9.11"
  }
 },
 "nbformat": 4,
 "nbformat_minor": 5
}
